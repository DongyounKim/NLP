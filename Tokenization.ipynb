{
 "cells": [
  {
   "cell_type": "code",
   "execution_count": 1,
   "id": "561535b9",
   "metadata": {},
   "outputs": [],
   "source": [
    "#Pytorch\n",
    "#Embedding\n",
    "from tqdm import tqdm"
   ]
  },
  {
   "cell_type": "code",
   "execution_count": 2,
   "id": "f9872932",
   "metadata": {},
   "outputs": [],
   "source": [
    "import torch\n",
    "import torchtext"
   ]
  },
  {
   "cell_type": "code",
   "execution_count": 3,
   "id": "66109e90",
   "metadata": {},
   "outputs": [],
   "source": [
    "seq_1=\"Books are ships which pass through the vast seas of time.\""
   ]
  },
  {
   "cell_type": "code",
   "execution_count": 4,
   "id": "36544e28",
   "metadata": {},
   "outputs": [],
   "source": [
    "#In order to get tokens from the input\n",
    "from torchtext.data.utils import get_tokenizer,_split_tokenizer,_spacy_tokenize\n",
    "\n",
    "#Tokenization library in nlp\n",
    "import spacy\n",
    "#To use conter function\n",
    "from collections import Counter\n",
    "from torchtext.vocab import Vocab"
   ]
  },
  {
   "cell_type": "markdown",
   "id": "c0c58209",
   "metadata": {},
   "source": [
    ">The tokenization in this tutorial requires Spacy We use Spacy because it provides strong support for tokenization in languages other than English. (https://pytorch.org/tutorials/beginner/torchtext_translation_tutorial.html)"
   ]
  },
  {
   "cell_type": "code",
   "execution_count": 5,
   "id": "6eb9c874",
   "metadata": {},
   "outputs": [],
   "source": [
    "_en_tokenizer_split=_split_tokenizer(seq_1)\n",
    "#print(_en_tokenizer_split)"
   ]
  },
  {
   "cell_type": "code",
   "execution_count": 13,
   "id": "95a9dbc8",
   "metadata": {},
   "outputs": [
    {
     "name": "stdout",
     "output_type": "stream",
     "text": [
      "['Books', 'are', 'ships', 'which', 'pass', 'through', 'the', 'vast', 'seas', 'of', 'time.']\n"
     ]
    },
    {
     "data": {
      "text/plain": [
       "11"
      ]
     },
     "execution_count": 13,
     "metadata": {},
     "output_type": "execute_result"
    }
   ],
   "source": [
    "_en_tokenizer_spacy=_split_tokenizer(seq_1)\n",
    "print(_en_tokenizer_spacy)"
   ]
  },
  {
   "cell_type": "code",
   "execution_count": 17,
   "id": "2de16931",
   "metadata": {},
   "outputs": [
    {
     "data": {
      "text/plain": [
       "functools.partial(<function tokenize at 0x7ff26fe1bb70>, decap=True)"
      ]
     },
     "execution_count": 17,
     "metadata": {},
     "output_type": "execute_result"
    }
   ],
   "source": [
    "#Encoding with \"get_tokenizer\" in order to do \"Subword tokenization\"\n",
    "tokenizer_ = get_tokenizer('subword',language='en')\n",
    "tokenizer_"
   ]
  },
  {
   "cell_type": "code",
   "execution_count": 21,
   "id": "002e5557",
   "metadata": {},
   "outputs": [],
   "source": [
    "def encode_voca(seq, tokenizer):\n",
    "    _word_to_index = {}\n",
    "    #size_token = len(tokenizer(seq))\n",
    "    for _word in tokenizer(seq):\n",
    "        _word_to_index[_word] = len(_word_to_index)\n",
    "    return _word_to_index"
   ]
  },
  {
   "cell_type": "code",
   "execution_count": 22,
   "id": "fc33dc3c",
   "metadata": {},
   "outputs": [
    {
     "data": {
      "text/plain": [
       "{'\\ue302 books ': 0,\n",
       " ' are ': 1,\n",
       " ' ships ': 2,\n",
       " ' which ': 3,\n",
       " ' pass ': 4,\n",
       " ' through ': 5,\n",
       " ' the ': 6,\n",
       " ' vast ': 7,\n",
       " ' seas ': 8,\n",
       " ' of ': 9,\n",
       " ' time ': 10,\n",
       " '. ': 11}"
      ]
     },
     "execution_count": 22,
     "metadata": {},
     "output_type": "execute_result"
    }
   ],
   "source": [
    "encode_voca(seq_1,tokenizer_)"
   ]
  },
  {
   "cell_type": "code",
   "execution_count": 24,
   "id": "96894cd6",
   "metadata": {},
   "outputs": [],
   "source": [
    "#encode_voca(seq_1, _en_tokenizer_spacy)"
   ]
  },
  {
   "cell_type": "code",
   "execution_count": null,
   "id": "971fa8ab",
   "metadata": {},
   "outputs": [],
   "source": [
    "tokens=tokenizer\n",
    "print(tokens)"
   ]
  },
  {
   "cell_type": "code",
   "execution_count": null,
   "id": "ac2f3578",
   "metadata": {},
   "outputs": [],
   "source": [
    "\n",
    "\"\"\"\n",
    "def encode_voca(seq, tokenizer):\n",
    "    #To determine how many the size of voca\n",
    "    count=Counter()\n",
    "    \n",
    "    #for _word in seq:\n",
    "        #Count the number of word\n",
    "    print(count.update(tokenizer(seq)))\n",
    "    #return Vocab(count,specials=['<unk>', '<pad>', '<bos>', '<eos>'])\n",
    "\"\"\""
   ]
  },
  {
   "cell_type": "markdown",
   "id": "7b64f16f",
   "metadata": {},
   "source": [
    ">Error - clear\n",
    "In command line, go to same folder and \"python3 -m spacy download en_core_web_sm\" ; from https://github.com/explosion/spaCy/issues/4638"
   ]
  },
  {
   "cell_type": "code",
   "execution_count": null,
   "id": "d14ede82",
   "metadata": {},
   "outputs": [],
   "source": [
    "encode_voca(seq_1,tokenizer)"
   ]
  },
  {
   "cell_type": "code",
   "execution_count": null,
   "id": "39f1be1a",
   "metadata": {},
   "outputs": [],
   "source": [
    "Vocab(\"a\")"
   ]
  },
  {
   "cell_type": "code",
   "execution_count": null,
   "id": "7a73cd4d",
   "metadata": {},
   "outputs": [],
   "source": [
    "_en_tokenizer = spacy.load(\"en_core_web_sm\")\n",
    "doc = nlp(\"Apple is looking at buying U.K. startup for $1 billion\")\n",
    "for token in doc:\n",
    "    print(token.text)"
   ]
  },
  {
   "cell_type": "code",
   "execution_count": null,
   "id": "94678fb2",
   "metadata": {},
   "outputs": [],
   "source": []
  }
 ],
 "metadata": {
  "kernelspec": {
   "display_name": "Python 3",
   "language": "python",
   "name": "python3"
  },
  "language_info": {
   "codemirror_mode": {
    "name": "ipython",
    "version": 3
   },
   "file_extension": ".py",
   "mimetype": "text/x-python",
   "name": "python",
   "nbconvert_exporter": "python",
   "pygments_lexer": "ipython3",
   "version": "3.6.13"
  }
 },
 "nbformat": 4,
 "nbformat_minor": 5
}
